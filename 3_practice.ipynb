{
 "cells": [
  {
   "cell_type": "markdown",
   "metadata": {},
   "source": [
    "### 문제 3.29"
   ]
  },
  {
   "cell_type": "code",
   "execution_count": 3,
   "metadata": {},
   "outputs": [
    {
     "name": "stdout",
     "output_type": "stream",
     "text": [
      "현재 탱크양은 560입니다\n",
      "현재 탱크양은 260입니다\n",
      "현재 탱크양은 40입니다\n",
      "경고: 연료가 10% 미만이니 충전하세요!\n"
     ]
    }
   ],
   "source": [
    "fuel=500\n",
    "while True:\n",
    "    diff=input('충전 또는 사용한 연료를 +/- 기호와 함께 입력하시오: ')\n",
    "    plus_minus=diff[:1]\n",
    "    diff=int(diff[1:])\n",
    "    if plus_minus=='+':\n",
    "        fuel=fuel+diff\n",
    "    elif plus_minus=='-':\n",
    "        fuel=fuel-diff\n",
    "    print('현재 탱크양은 {}입니다'.format(fuel))\n",
    "    if fuel<50:\n",
    "        print('경고: 연료가 10% 미만이니 충전하세요!')\n",
    "        break\n",
    "    else:\n",
    "        continue"
   ]
  },
  {
   "cell_type": "markdown",
   "metadata": {},
   "source": [
    "### 문제 3.30"
   ]
  },
  {
   "cell_type": "code",
   "execution_count": 9,
   "metadata": {},
   "outputs": [
    {
     "name": "stdout",
     "output_type": "stream",
     "text": [
      "1) 덧셈  2) 뺄셈  3) 곱셈 4) 나눗셈\n",
      "3/4=0.75\n"
     ]
    }
   ],
   "source": [
    "print('1) 덧셈  2) 뺄셈  3) 곱셈 4) 나눗셈')\n",
    "cal=int(input('어떤 연산을 원하는지 번호를 입력하세요: '))\n",
    "if cal!=1 and cal!=2 and cal!=3 and cal!=4:\n",
    "    print('잘못 입력하였습니다')\n",
    "else:\n",
    "    a,b=map(int, input('연산을 원하는 숫자 두 개를 입력하세요').split(' '))\n",
    "    if cal==1:\n",
    "        print('{}+{}={}'.format(a,b,a+b))\n",
    "    elif cal==2:\n",
    "        print('{}-{}={}'.format(a,b,a-b))\n",
    "    elif cal==3:\n",
    "        print('{}*{}={}'.format(a,b,a*b))\n",
    "    elif cal==4:\n",
    "        print('{}/{}={}'.format(a,b,a/b))"
   ]
  },
  {
   "cell_type": "markdown",
   "metadata": {},
   "source": [
    "### 문제 3.28"
   ]
  },
  {
   "cell_type": "code",
   "execution_count": 11,
   "metadata": {},
   "outputs": [
    {
     "name": "stdout",
     "output_type": "stream",
     "text": [
      "123는 거꾸로 정수가 아닙니다\n"
     ]
    },
    {
     "ename": "",
     "evalue": "",
     "output_type": "error",
     "traceback": [
      "\u001b[1;31m현재 셀 또는 이전 셀에서 코드를 실행하는 동안 Kernel이 충돌했습니다. \n",
      "\u001b[1;31m셀의 코드를 검토하여 가능한 오류 원인을 식별하세요. \n",
      "\u001b[1;31m자세한 내용을 보려면 <a href='https://aka.ms/vscodeJupyterKernelCrash'>여기</a>를 클릭하세요. \n",
      "\u001b[1;31m자세한 내용은 Jupyter <a href='command:jupyter.viewOutput'>로그</a>를 참조하세요."
     ]
    }
   ],
   "source": [
    "n=input('정수를 입력하시오: ')\n",
    "n_rev=n[::-1]\n",
    "if int(n)==int(n_rev):\n",
    "    print('{}는 거꾸로 정수입니다'.format(n))\n",
    "else:\n",
    "    print('{}는 거꾸로 정수가 아닙니다'.format(n))"
   ]
  },
  {
   "cell_type": "code",
   "execution_count": 1,
   "metadata": {},
   "outputs": [
    {
     "name": "stdout",
     "output_type": "stream",
     "text": [
      "sin 45도는:  0.7071067811865476\n"
     ]
    }
   ],
   "source": [
    "print('sin 45도는: ',(1/2)**0.5)"
   ]
  },
  {
   "cell_type": "code",
   "execution_count": null,
   "metadata": {},
   "outputs": [],
   "source": []
  }
 ],
 "metadata": {
  "kernelspec": {
   "display_name": "base",
   "language": "python",
   "name": "python3"
  },
  "language_info": {
   "codemirror_mode": {
    "name": "ipython",
    "version": 3
   },
   "file_extension": ".py",
   "mimetype": "text/x-python",
   "name": "python",
   "nbconvert_exporter": "python",
   "pygments_lexer": "ipython3",
   "version": "3.11.4"
  }
 },
 "nbformat": 4,
 "nbformat_minor": 2
}
