{
 "cells": [
  {
   "cell_type": "markdown",
   "metadata": {},
   "source": [
    "### 문제 4.16"
   ]
  },
  {
   "cell_type": "code",
   "execution_count": 11,
   "metadata": {},
   "outputs": [
    {
     "name": "stdout",
     "output_type": "stream",
     "text": [
      "입력된 정수의 리스트: [12, 1, 3, 2]\n",
      "정렬된 정수의 리스트: 1 2 3 12 "
     ]
    }
   ],
   "source": [
    "a=list(map(int,input('쉼표로 구분된 정수를 여러 개 입력하십시오').split(',')))\n",
    "print('입력된 정수의 리스트: {}'.format(a))\n",
    "print('정렬된 정수의 리스트:',end=' ')\n",
    "for n in sorted(a):\n",
    "    print(n,end=' ')"
   ]
  },
  {
   "cell_type": "markdown",
   "metadata": {},
   "source": [
    "### 문제 4.17"
   ]
  },
  {
   "cell_type": "code",
   "execution_count": 13,
   "metadata": {},
   "outputs": [
    {
     "name": "stdout",
     "output_type": "stream",
     "text": [
      "10에서 20까지의 정수의 합: 165\n",
      "40에서 100까지의 정수의 합: 4270\n"
     ]
    }
   ],
   "source": [
    "def sum_range(n1,n2):\n",
    "    sum=0\n",
    "    for i in range(n2-n1+1):\n",
    "        sum=sum+n1+i\n",
    "    return sum\n",
    "\n",
    "print('10에서 20까지의 정수의 합: {}'.format(sum_range(10,20)))\n",
    "print('40에서 100까지의 정수의 합: {}'.format(sum_range(40,100)))"
   ]
  },
  {
   "cell_type": "markdown",
   "metadata": {},
   "source": [
    "### 문제 4.18"
   ]
  },
  {
   "cell_type": "code",
   "execution_count": 20,
   "metadata": {},
   "outputs": [
    {
     "name": "stdout",
     "output_type": "stream",
     "text": [
      "3에서 5까지의 정수들의 최소 공배수는: 60\n"
     ]
    }
   ],
   "source": [
    "a=int(input('범위의 시작 정수: '))\n",
    "b=int(input('범위의 마지막 정수: '))\n",
    "isTrue=False\n",
    "num=1\n",
    "\n",
    "while isTrue==False:\n",
    "    for i in range(b-a+1): #a에서 b까지의 정수로 나눴을 때 나머지가 0임을 검증하는 루프\n",
    "        if num%(a+i)!=0:\n",
    "            isTrue=False\n",
    "            num=num+1\n",
    "            break\n",
    "        else: isTrue=True\n",
    "\n",
    "print('{}에서 {}까지의 정수들의 최소 공배수는: {}'.format(a,b,num))\n",
    "    "
   ]
  },
  {
   "cell_type": "markdown",
   "metadata": {},
   "source": [
    "### 문제 4.19"
   ]
  },
  {
   "cell_type": "code",
   "execution_count": 3,
   "metadata": {},
   "outputs": [
    {
     "name": "stdout",
     "output_type": "stream",
     "text": [
      "fibo(4)=5\n"
     ]
    }
   ],
   "source": [
    "def fibo(n):\n",
    "    if n==0 or n==1:\n",
    "        num=1\n",
    "    else:\n",
    "        num=fibo(n-1)+fibo(n-2)\n",
    "    return num\n",
    "\n",
    "n=int(input('fibo(n)의 n을 입력하세요: '))\n",
    "print('fibo({})={}'.format(n,fibo(n)))"
   ]
  },
  {
   "cell_type": "markdown",
   "metadata": {},
   "source": [
    "### 문제 4.20"
   ]
  },
  {
   "cell_type": "code",
   "execution_count": 6,
   "metadata": {},
   "outputs": [
    {
     "name": "stdout",
     "output_type": "stream",
     "text": [
      "fibo(  0)=    1\n",
      "fibo(  1)=    1\n",
      "fibo(  2)=    2\n",
      "fibo(  3)=    3\n",
      "fibo(  4)=    5\n",
      "fibo(  5)=    8\n",
      "fibo(  6)=   13\n",
      "fibo(  7)=   21\n",
      "fibo(  8)=   34\n",
      "fibo(  9)=   55\n",
      "fibo( 10)=   89\n",
      "fibo( 11)=  144\n",
      "fibo( 12)=  233\n",
      "fibo( 13)=  377\n",
      "fibo( 14)=  610\n",
      "fibo( 15)=  987\n"
     ]
    }
   ],
   "source": [
    "for i in range(16):\n",
    "    print('fibo({:3d})={:5d}'.format(i,fibo(i)))"
   ]
  },
  {
   "cell_type": "markdown",
   "metadata": {},
   "source": [
    "### ⭐문제 4.21"
   ]
  },
  {
   "cell_type": "code",
   "execution_count": 22,
   "metadata": {},
   "outputs": [
    {
     "name": "stdout",
     "output_type": "stream",
     "text": [
      "2048년 12월 31일\n"
     ]
    }
   ],
   "source": [
    "joomin=list(input('주민등록번호 첫 6숫자 형식 입력: '))\n",
    "year=int(''.join(joomin[0:2]))\n",
    "month=int(''.join(joomin[2:4]))\n",
    "date=int(''.join(joomin[4:6]))\n",
    "\n",
    "if year<50:\n",
    "    year=year+2000\n",
    "else:\n",
    "    year=year+1900\n",
    "\n",
    "print('{}년 {}월 {}일'.format(year,month,date))\n"
   ]
  },
  {
   "cell_type": "markdown",
   "metadata": {},
   "source": [
    "### ⭐문제 4.22"
   ]
  },
  {
   "cell_type": "code",
   "execution_count": 23,
   "metadata": {},
   "outputs": [
    {
     "name": "stdout",
     "output_type": "stream",
     "text": [
      "현재 시간은 2024년 4월 15일입니다\n",
      "지금 태어난 아이의 주민등록번호 앞자리는: 240415\n"
     ]
    }
   ],
   "source": [
    "import datetime\n",
    "date=datetime.datetime.now()\n",
    "\n",
    "y,m,d=date.year, date.month, date.day\n",
    "joomin=(y-2000)*10**4+m*10**2+d\n",
    "print('현재 시간은 {}년 {}월 {}일입니다'.format(y,m,d))\n",
    "print('지금 태어난 아이의 주민등록번호 앞자리는: {}'.format(joomin))"
   ]
  },
  {
   "cell_type": "markdown",
   "metadata": {},
   "source": [
    "### 문제 4.23"
   ]
  },
  {
   "cell_type": "code",
   "execution_count": 25,
   "metadata": {},
   "outputs": [
    {
     "name": "stdout",
     "output_type": "stream",
     "text": [
      "넓이: 113.097, 둘레:  37.699\n",
      "넓이: 1520.531, 둘레: 138.230\n",
      "넓이:  50.265, 둘레:  25.133\n",
      "프로그램을 종료합니다\n"
     ]
    }
   ],
   "source": [
    "import numpy as np\n",
    "\n",
    "def area_and_circumference(r):\n",
    "    area=np.pi*r**2\n",
    "    circumference=2*np.pi*r\n",
    "    return [area, circumference]\n",
    "\n",
    "while True:\n",
    "    r=int(input('반지름을 입력하시오: '))\n",
    "    if r<0:\n",
    "        print('프로그램을 종료합니다')\n",
    "        break\n",
    "    info=area_and_circumference(r)\n",
    "    print('넓이: {:7.3f}, 둘레: {:7.3f}'.format(info[0],info[1]))"
   ]
  },
  {
   "cell_type": "markdown",
   "metadata": {},
   "source": [
    "### 문제 4.24"
   ]
  },
  {
   "cell_type": "code",
   "execution_count": 34,
   "metadata": {},
   "outputs": [
    {
     "name": "stdout",
     "output_type": "stream",
     "text": [
      "['임의의', '문장을', '입력', '출력', '', '이것은', '테스트', '문장', '', '가', '가나', '나', '나나', '다람쥐', '', '', '마린보이']\n"
     ]
    }
   ],
   "source": [
    "import re\n",
    "\n",
    "a=input('여러 단어로 이루어진 글을 입력하세요: ')\n",
    "b=re.split('[ |,|:|.]',a)\n",
    "print(b)"
   ]
  },
  {
   "cell_type": "markdown",
   "metadata": {},
   "source": [
    "### 문제 4.25"
   ]
  },
  {
   "cell_type": "code",
   "execution_count": 22,
   "metadata": {},
   "outputs": [
    {
     "name": "stdout",
     "output_type": "stream",
     "text": [
      "['K', 'a', 'n', 'g', ' ', 'Y', 'o', 'u', 'n', 'g', ' ', 'M', 'i', 'n']\n",
      "KANGYOUNGMIN\n",
      "3\n"
     ]
    }
   ],
   "source": [
    "s1='Kang Young Min'\n",
    "s2=' Kang Young-Min'\n",
    "s3='Park Dong Min'\n",
    "s4=' Park Dong-Yun'\n",
    "\n",
    "def erase(str):\n",
    "    str_lst=list(str)\n",
    "    tmp_lst=[]\n",
    "    for i in range(len(str_lst)):\n",
    "        if str_lst[i]!=' ' and str_lst[i]!='-':\n",
    "            tmp_lst.append(str_lst[i].upper())\n",
    "    str=''.join(tmp_lst)\n",
    "    return str\n",
    "\n",
    "print(list(s1))\n",
    "print(erase(s1))\n",
    "print(erase(s1).count('N'))"
   ]
  },
  {
   "cell_type": "markdown",
   "metadata": {},
   "source": [
    "### 문제 4.26"
   ]
  },
  {
   "cell_type": "code",
   "execution_count": 31,
   "metadata": {},
   "outputs": [
    {
     "name": "stdout",
     "output_type": "stream",
     "text": [
      "0\n",
      "Park(Java City), Kim(C city), Kang(Python city), Lee(Python city), Hong(Ruby city), Cho(Python city), Koo(C city), Ryu(C++ city)\n"
     ]
    }
   ],
   "source": [
    "s1='Park(Java City), Kim(C city), Kang(Bython city), Lee(Bython city), Hong(Ruby city), Cho(Bython city), Koo(C city), Ryu(C++ city)'\n",
    "\n",
    "s2=s1.replace('Bython','Python')\n",
    "cnt=s2.count('Bython')\n",
    "print(cnt)\n",
    "print(s2)"
   ]
  },
  {
   "cell_type": "markdown",
   "metadata": {},
   "source": [
    "### 문제 4.27"
   ]
  },
  {
   "cell_type": "code",
   "execution_count": 36,
   "metadata": {},
   "outputs": [
    {
     "name": "stdout",
     "output_type": "stream",
     "text": [
      "가장 가까운 단위 분수는 1/292123474750307490570585492583902466242973253976981504이며, 이 값은 3.42321e-54입니다\n"
     ]
    }
   ],
   "source": [
    "num=float(input('1보다 작고 0보다 큰 소수를 입력하세요: '))\n",
    "\n",
    "div=(1/num)//1\n",
    "if (1/div)-num>(-1/(div+1))+num:\n",
    "    div=div+1\n",
    "print('가장 가까운 단위 분수는 1/{:d}이며, 이 값은 {}입니다'.format(int(div),1/div))"
   ]
  },
  {
   "cell_type": "markdown",
   "metadata": {},
   "source": [
    "### 문제 4.28"
   ]
  },
  {
   "cell_type": "code",
   "execution_count": 41,
   "metadata": {},
   "outputs": [
    {
     "name": "stdout",
     "output_type": "stream",
     "text": [
      "120\n"
     ]
    }
   ],
   "source": [
    "def factorial(k):\n",
    "    if k>=1:\n",
    "        return k*factorial(k-1)\n",
    "    elif k==0:\n",
    "        return 1\n",
    "    else:\n",
    "        ValueError('input must be positive integer or zero')\n",
    "\n",
    "print(factorial(5))"
   ]
  },
  {
   "cell_type": "code",
   "execution_count": 43,
   "metadata": {},
   "outputs": [
    {
     "name": "stdout",
     "output_type": "stream",
     "text": [
      "2.7166666666666663\n"
     ]
    }
   ],
   "source": [
    "def euler(n):\n",
    "    sum=0\n",
    "    for i in range(n+1):\n",
    "        sum=sum+1/(factorial(i))\n",
    "    return sum\n",
    "\n",
    "print(euler(5))"
   ]
  },
  {
   "cell_type": "code",
   "execution_count": 44,
   "metadata": {},
   "outputs": [
    {
     "name": "stdout",
     "output_type": "stream",
     "text": [
      "euler( 5)=2.71667\n",
      "euler(20)=2.71828\n"
     ]
    }
   ],
   "source": [
    "print('euler({:2d})={:3.5f}'.format(5,euler(5)))\n",
    "print('euler({:2d})={:3.5f}'.format(20,euler(20)))"
   ]
  },
  {
   "cell_type": "markdown",
   "metadata": {},
   "source": [
    "### ⭐문제 4.14"
   ]
  },
  {
   "cell_type": "code",
   "execution_count": 35,
   "metadata": {},
   "outputs": [
    {
     "name": "stdout",
     "output_type": "stream",
     "text": [
      "정렬된 리스트는 다음과 같습니다: 2 3 5 "
     ]
    }
   ],
   "source": [
    "def sort3(n1,n2,n3):\n",
    "    a=[n1,n2,n3]\n",
    "    a=sorted(a)\n",
    "    return a\n",
    "\n",
    "n1,n2,n3=map(int,input('세 수를 입력하세요').split(','))\n",
    "print('정렬된 리스트는 다음과 같습니다:',end=' ')\n",
    "for i in sort3(n1,n2,n3):\n",
    "    print(i,end=' ')"
   ]
  },
  {
   "cell_type": "markdown",
   "metadata": {},
   "source": [
    "### ⭐문제 4.15"
   ]
  },
  {
   "cell_type": "code",
   "execution_count": 42,
   "metadata": {},
   "outputs": [
    {
     "name": "stdout",
     "output_type": "stream",
     "text": [
      "my_sort(45,3,4,56,5) 호출시\n",
      "결과: [3, 4, 5, 45, 56]\n"
     ]
    }
   ],
   "source": [
    "def my_sort(*nums):\n",
    "    b=[]\n",
    "    for i in nums:\n",
    "        b.append(i)\n",
    "    return sorted(b)\n",
    "\n",
    "print('my_sort(45,3,4,56,5) 호출시')\n",
    "print('결과: {}'.format(my_sort(45,3,4,56,5)))"
   ]
  },
  {
   "cell_type": "markdown",
   "metadata": {},
   "source": [
    "### ⭐문제 4.1"
   ]
  },
  {
   "cell_type": "code",
   "execution_count": null,
   "metadata": {},
   "outputs": [],
   "source": []
  },
  {
   "cell_type": "markdown",
   "metadata": {},
   "source": [
    "### ⭐문제 4.2"
   ]
  },
  {
   "cell_type": "code",
   "execution_count": null,
   "metadata": {},
   "outputs": [],
   "source": []
  },
  {
   "cell_type": "markdown",
   "metadata": {},
   "source": [
    "### ⭐문제 4.4"
   ]
  },
  {
   "cell_type": "code",
   "execution_count": null,
   "metadata": {},
   "outputs": [],
   "source": []
  },
  {
   "cell_type": "markdown",
   "metadata": {},
   "source": [
    "### ⭐문제 4.5"
   ]
  },
  {
   "cell_type": "markdown",
   "metadata": {},
   "source": []
  }
 ],
 "metadata": {
  "kernelspec": {
   "display_name": "AI_PY39",
   "language": "python",
   "name": "python3"
  },
  "language_info": {
   "codemirror_mode": {
    "name": "ipython",
    "version": 3
   },
   "file_extension": ".py",
   "mimetype": "text/x-python",
   "name": "python",
   "nbconvert_exporter": "python",
   "pygments_lexer": "ipython3",
   "version": "3.11.4"
  }
 },
 "nbformat": 4,
 "nbformat_minor": 2
}
