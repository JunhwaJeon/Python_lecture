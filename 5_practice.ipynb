{
 "cells": [
  {
   "cell_type": "markdown",
   "metadata": {},
   "source": [
    "### 문제 5.17\n",
    "### ⭐"
   ]
  },
  {
   "cell_type": "code",
   "execution_count": 29,
   "metadata": {},
   "outputs": [
    {
     "name": "stdout",
     "output_type": "stream",
     "text": [
      "['cat', 'tiger', 'lion', 'dog']\n"
     ]
    }
   ],
   "source": [
    "animals=['dog','cat','tiger','lion']\n",
    "animals.reverse()\n",
    "tmp=animals.pop(3)\n",
    "animals.reverse()\n",
    "animals.append(tmp)\n",
    "print(animals)"
   ]
  },
  {
   "cell_type": "code",
   "execution_count": 30,
   "metadata": {},
   "outputs": [
    {
     "name": "stdout",
     "output_type": "stream",
     "text": [
      "I love dog.\n",
      "I love cat.\n",
      "I love tiger.\n",
      "I love lion.\n"
     ]
    }
   ],
   "source": [
    "animals=['dog','cat','tiger','lion']\n",
    "for i in animals:\n",
    "    print('I love {}.'.format(i))"
   ]
  },
  {
   "cell_type": "markdown",
   "metadata": {},
   "source": [
    "### 문제 5.18"
   ]
  },
  {
   "cell_type": "code",
   "execution_count": 31,
   "metadata": {},
   "outputs": [],
   "source": [
    "s_list=['abc','bcd','bcdefg','cddc','opq']"
   ]
  },
  {
   "cell_type": "code",
   "execution_count": 32,
   "metadata": {},
   "outputs": [
    {
     "name": "stdout",
     "output_type": "stream",
     "text": [
      "가장 길이가 짧은 문자열: abc\n"
     ]
    }
   ],
   "source": [
    "min=len(s_list[0])\n",
    "min_index=0\n",
    "for i in range(len(s_list)):\n",
    "    if len(s_list[i])<min:\n",
    "        min=len(s_list[i])\n",
    "        min_index=i\n",
    "print('가장 길이가 짧은 문자열: {}'.format(s_list[min_index]))\n",
    "        "
   ]
  },
  {
   "cell_type": "code",
   "execution_count": 33,
   "metadata": {},
   "outputs": [
    {
     "name": "stdout",
     "output_type": "stream",
     "text": [
      "가장 길이가 긴 문자열: bcdefg\n"
     ]
    }
   ],
   "source": [
    "max=0\n",
    "max_index=0\n",
    "for i in range(len(s_list)):\n",
    "    if len(s_list[i])>max:\n",
    "        max=len(s_list[i])\n",
    "        max_index=i\n",
    "print('가장 길이가 긴 문자열: {}'.format(s_list[max_index]))"
   ]
  },
  {
   "cell_type": "code",
   "execution_count": 34,
   "metadata": {},
   "outputs": [
    {
     "name": "stdout",
     "output_type": "stream",
     "text": [
      "가장 길이가 짧은 문자열: abc, bcd, opq, "
     ]
    }
   ],
   "source": [
    "s_list.sort(key=len)\n",
    "min_index=0\n",
    "for i in range(len(s_list)):\n",
    "    if len(s_list[i])>len(s_list[0]):\n",
    "        min_index=i\n",
    "        break\n",
    "    \n",
    "print('가장 길이가 짧은 문자열:',end=' ')\n",
    "for i in range(min_index):\n",
    "    print('{}'.format(s_list[i]),end=', ')"
   ]
  },
  {
   "cell_type": "markdown",
   "metadata": {},
   "source": [
    "### 문제 5.19"
   ]
  },
  {
   "cell_type": "code",
   "execution_count": 35,
   "metadata": {},
   "outputs": [
    {
     "name": "stdout",
     "output_type": "stream",
     "text": [
      "['abc', 'bcd', 'abba', 'cddc', 'opq']\n"
     ]
    }
   ],
   "source": [
    "s_list=['abc','bcd','abc','abba','cddc','opq','opq']\n",
    "new_s_list=[]\n",
    "\n",
    "for i in range(len(s_list)):\n",
    "    isin=False\n",
    "    for j in new_s_list:\n",
    "        if j==s_list[i]:\n",
    "            isin=True\n",
    "            break\n",
    "    if isin==False:\n",
    "        new_s_list.append(s_list[i])\n",
    "        \n",
    "print(new_s_list)"
   ]
  },
  {
   "cell_type": "markdown",
   "metadata": {},
   "source": [
    "### 문제 5.20\n",
    "### <span style=\"color:red\"> 완료</span>"
   ]
  },
  {
   "cell_type": "code",
   "execution_count": 7,
   "metadata": {},
   "outputs": [
    {
     "name": "stdout",
     "output_type": "stream",
     "text": [
      "output: 'a2b3a2'\n"
     ]
    }
   ],
   "source": [
    "def compress(src):\n",
    "    src_list=list(src)\n",
    "    chr_list=[]\n",
    "    cnt_list=[]\n",
    "    i=0\n",
    "    \n",
    "    while i!=len(src_list):\n",
    "        cnt=0\n",
    "        while True: # 이번 인덱스 다음 인덱스 다른 문자 나올때까지\n",
    "            if i==len(src_list)-1: # 리스트 마지막일 때\n",
    "                i=i+1\n",
    "                cnt=cnt+1\n",
    "                break\n",
    "            if src_list[i]!=src_list[i+1]: # 이번 인덱스 다음 인덱스 다른 문자 나왔을 때\n",
    "                i=i+1 # 인덱스도 증가는 해주고\n",
    "                cnt=cnt+1 # 개수는 세 주고\n",
    "                break # while 문 종료\n",
    "            else:\n",
    "                i=i+1\n",
    "                cnt=cnt+1\n",
    "\n",
    "        chr_list.append(src_list[i-1]) # 문자 리스트\n",
    "        cnt_list.append(str(cnt)) # 개수 리스트\n",
    "        \n",
    "    output=[]\n",
    "    for i in range(len(chr_list)):\n",
    "        output.append(chr_list[i]) # 문자리스트 하나씩 어팬드\n",
    "        output.append(cnt_list[i]) # 개수리스트 하나씩 어팬드\n",
    "    \n",
    "    compressed=''.join(output) # 문자열로 합치기\n",
    "    return compressed \n",
    "    \n",
    "src=input('src: ')\n",
    "print('output: \\'{}\\''.format(compress(src)))"
   ]
  },
  {
   "cell_type": "code",
   "execution_count": 6,
   "metadata": {},
   "outputs": [
    {
     "name": "stdout",
     "output_type": "stream",
     "text": [
      "['a7', 'b3']\n",
      "output = a7b3\n"
     ]
    }
   ],
   "source": [
    "src = ['aaaabbbaaa']\n",
    "b = src[0]\n",
    "c = list(b)\n",
    "g = []\n",
    "\n",
    "for i in range(len(c)):\n",
    "    if b[i] not in g: # 내가 정렬하고 한 거랑 같은효과를 내는겨\n",
    "        g.append(b[i])\n",
    "\n",
    "d=[]\n",
    "for j in range(len(g)):\n",
    "    d.append(c.count(g[j]))\n",
    "\n",
    "p=[]\n",
    "for k in range(len(g)):\n",
    "    p.append(g[k]+str(d[k]))\n",
    "u=list(map(str,p))\n",
    "print(u)\n",
    "print('output = {}'.format(''.join(u)))"
   ]
  },
  {
   "cell_type": "markdown",
   "metadata": {},
   "source": [
    "### 문제 5.21"
   ]
  },
  {
   "cell_type": "code",
   "execution_count": 16,
   "metadata": {},
   "outputs": [
    {
     "name": "stdout",
     "output_type": "stream",
     "text": [
      "output: 'aaaaaaggggggg'\n"
     ]
    }
   ],
   "source": [
    "def decode(compressed):\n",
    "    cmp_list=list(compressed)\n",
    "    output=[]\n",
    "    tmp_chr=''\n",
    "    \n",
    "    for i in range(len(cmp_list)):\n",
    "        if i%2==0:\n",
    "            tmp_chr=cmp_list[i]\n",
    "        else:\n",
    "            for j in range(int(cmp_list[i])):\n",
    "                output.append(tmp_chr)\n",
    "                \n",
    "    decoded=''.join(output)\n",
    "    return decoded\n",
    "\n",
    "src=input('src: ')\n",
    "print('output: \\'{}\\''.format(decode(src)))"
   ]
  },
  {
   "cell_type": "markdown",
   "metadata": {},
   "source": [
    "### 문제 5.22"
   ]
  },
  {
   "cell_type": "code",
   "execution_count": null,
   "metadata": {},
   "outputs": [
    {
     "name": "stdout",
     "output_type": "stream",
     "text": [
      " 1  2  3  4  5  6 \n",
      "12 11 10  9  8  7 \n",
      "13 14 15 16 17 18 \n",
      "24 23 22 21 20 19 \n",
      "25 26 27 28 29 30 \n",
      "36 35 34 33 32 31 \n"
     ]
    }
   ],
   "source": [
    "line=0\n",
    "n=int(input('n을 입력하시오:'))\n",
    "while line!=n:\n",
    "    if line%2==0:\n",
    "        for i in range(n):\n",
    "            print('{:2d}'.format(line*n+i+1),end=' ')\n",
    "    else:\n",
    "        for i in range(n,0,-1):\n",
    "            print('{:2d}'.format(line*n+i),end=' ')\n",
    "    print()\n",
    "    line=line+1"
   ]
  },
  {
   "cell_type": "code",
   "execution_count": null,
   "metadata": {},
   "outputs": [],
   "source": [
    "n=int(input('n을 입력하시오:'))\n",
    "num=[]\n",
    "\n",
    "for i in range(n**2):\n",
    "    num.append(i)\n",
    "\n",
    "line=0\n",
    "while line!=n:\n",
    "   if line%2==0:\n",
    "        for i in range(n):\n",
    "            print('{:2d}'.format(line*n+i+1),end=' ')\n",
    "    else:\n",
    "        for i in range(n,0,-1):\n",
    "            print('{:2d}'.format(line*n+i),end=' ')\n",
    "    print()\n",
    "    line=line+1"
   ]
  },
  {
   "cell_type": "markdown",
   "metadata": {},
   "source": [
    "##### <span style=\"color:red\"> 귀찮으니 나중에 </span>"
   ]
  },
  {
   "cell_type": "markdown",
   "metadata": {},
   "source": [
    "### 문제 5.23"
   ]
  },
  {
   "cell_type": "code",
   "execution_count": null,
   "metadata": {},
   "outputs": [],
   "source": [
    "person1=['온달',20, 1, 180.0, 100.0]\n",
    "person2=['이사부', 25, 1, 170.0, 70.0]\n",
    "person3=['평강', 22, 0, 169.0, 60.0]\n",
    "person4=['혁거세', 40, 1, 150.0, 50.0]"
   ]
  },
  {
   "cell_type": "code",
   "execution_count": null,
   "metadata": {},
   "outputs": [
    {
     "name": "stdout",
     "output_type": "stream",
     "text": [
      "3명의 정보가 담겨 있습니다\n"
     ]
    }
   ],
   "source": [
    "def how_many_persons(person_list):\n",
    "    persons=len(person_list)//5\n",
    "    return persons\n",
    "\n",
    "person_list=person1+person3+person4\n",
    "n_persons=how_many_persons(person_list)\n",
    "print(str(n_persons)+'명의 정보가 담겨 있습니다')"
   ]
  },
  {
   "cell_type": "code",
   "execution_count": null,
   "metadata": {},
   "outputs": [
    {
     "name": "stdout",
     "output_type": "stream",
     "text": [
      "평균 나이는: 26.75세입니다\n"
     ]
    }
   ],
   "source": [
    "def compute_average_age(person_list):\n",
    "    sum=0\n",
    "    for i in range(len(person_list)//5):\n",
    "        sum=sum+person_list[5*i+1]\n",
    "    average=sum/(len(person_list)//5)\n",
    "    return average\n",
    "\n",
    "person_list=person1+person2+person3+person4\n",
    "avg_age=compute_average_age(person_list)\n",
    "print('평균 나이는: '+str(avg_age)+'세입니다')"
   ]
  },
  {
   "cell_type": "code",
   "execution_count": null,
   "metadata": {},
   "outputs": [
    {
     "name": "stdout",
     "output_type": "stream",
     "text": [
      "리스트에는 남자가 3명 여자가 1명입니다.\n"
     ]
    }
   ],
   "source": [
    "def count_males_females(person_list):\n",
    "    males,females=0,0\n",
    "    for i in range(len(person_list)//5):\n",
    "        if person_list[i*5+2]==1: males=males+1\n",
    "        else: females=females+1\n",
    "    return males, females\n",
    "\n",
    "person_list=person1+person2+person3+person4\n",
    "n_male,n_female=count_males_females(person_list)\n",
    "print('리스트에는 남자가 {}명 여자가 {}명입니다.'.format(n_male,n_female))"
   ]
  },
  {
   "cell_type": "code",
   "execution_count": null,
   "metadata": {},
   "outputs": [
    {
     "name": "stdout",
     "output_type": "stream",
     "text": [
      "['온달', 20, 1, 180.0, 100.0]\n",
      "['이사부', 25, 1, 170.0, 70.0]\n",
      "['평강', 22, 0, 169.0, 60.0]\n",
      "['혁거세', 40, 1, 150.0, 50.0]\n"
     ]
    }
   ],
   "source": [
    "def display_persons(person_list):\n",
    "    person=[]\n",
    "    for i in range(len(person_list)//5):\n",
    "        person.append(person_list[i*5:i*5+5])\n",
    "        print(person[i])\n",
    "        \n",
    "display_persons(person_list)"
   ]
  },
  {
   "cell_type": "markdown",
   "metadata": {},
   "source": [
    "### 문제 5.24"
   ]
  },
  {
   "cell_type": "code",
   "execution_count": null,
   "metadata": {},
   "outputs": [],
   "source": [
    "def abs_num(n):\n",
    "    for i in range(1,n+1):\n",
    "        jinyak=[]\n",
    "        for j in range(1,i):\n",
    "            if i%j==0:\n",
    "                jinyak.append(j)\n",
    "        jinyak_sum=0\n",
    "        for j in jinyak:\n",
    "            jinyak_sum=jinyak_sum+j\n",
    "        if jinyak_sum==i:\n",
    "            print('{}는 완전수입니다'.format(i))\n",
    "            print('{}의 약수: {}, 약수의 합 ={}'.format(i,jinyak,i))"
   ]
  },
  {
   "cell_type": "code",
   "execution_count": null,
   "metadata": {},
   "outputs": [
    {
     "name": "stdout",
     "output_type": "stream",
     "text": [
      "6는 완전수입니다\n",
      "6의 약수: [1, 2, 3], 약수의 합 =6\n",
      "28는 완전수입니다\n",
      "28의 약수: [1, 2, 4, 7, 14], 약수의 합 =28\n",
      "496는 완전수입니다\n",
      "496의 약수: [1, 2, 4, 8, 16, 31, 62, 124, 248], 약수의 합 =496\n",
      "8128는 완전수입니다\n",
      "8128의 약수: [1, 2, 4, 8, 16, 32, 64, 127, 254, 508, 1016, 2032, 4064], 약수의 합 =8128\n"
     ]
    }
   ],
   "source": [
    "abs_num(10000)"
   ]
  },
  {
   "cell_type": "code",
   "execution_count": 12,
   "metadata": {},
   "outputs": [
    {
     "name": "stdout",
     "output_type": "stream",
     "text": [
      "2\n",
      "[1, 3, 4, 5]\n"
     ]
    }
   ],
   "source": [
    "lst=[1,2,3,4,5]\n",
    "print(lst.pop(1))\n",
    "print(lst)"
   ]
  },
  {
   "cell_type": "code",
   "execution_count": null,
   "metadata": {},
   "outputs": [],
   "source": []
  }
 ],
 "metadata": {
  "kernelspec": {
   "display_name": "base",
   "language": "python",
   "name": "python3"
  },
  "language_info": {
   "codemirror_mode": {
    "name": "ipython",
    "version": 3
   },
   "file_extension": ".py",
   "mimetype": "text/x-python",
   "name": "python",
   "nbconvert_exporter": "python",
   "pygments_lexer": "ipython3",
   "version": "3.11.4"
  }
 },
 "nbformat": 4,
 "nbformat_minor": 2
}
