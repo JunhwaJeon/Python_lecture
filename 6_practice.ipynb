{
 "cells": [
  {
   "cell_type": "markdown",
   "metadata": {},
   "source": [
    "### 문제 6.7"
   ]
  },
  {
   "cell_type": "code",
   "execution_count": null,
   "metadata": {},
   "outputs": [],
   "source": [
    "sal=(100,121,120,130,140,120,122,123,190,125)\n",
    "dec=0\n",
    "\n",
    "for i in range(len(sal)-1):\n",
    "    if sal[i]>sal[i+1]:\n",
    "        dec+=1\n",
    "        \n",
    "print('일일 매출 기록: ',sal)\n",
    "print('지난 {}일 동안 전일대비 매출이 감소한 날은 {}일입니다'.format(len(sal),dec))"
   ]
  },
  {
   "cell_type": "markdown",
   "metadata": {},
   "source": [
    "### 문제 6.10"
   ]
  },
  {
   "cell_type": "code",
   "execution_count": 25,
   "metadata": {},
   "outputs": [
    {
     "name": "stdout",
     "output_type": "stream",
     "text": [
      "주어진 튜플 : (1, 2, 5, 4, 3, 2, 1, 4, 7, 8, 9, 8, 3, 7, 1)\n",
      "1\n"
     ]
    }
   ],
   "source": [
    "a = (1,2,5,4,3,2,1,4,7,8,9,8,3,7,1)\n",
    "print('주어진 튜플 : {}'.format(a))\n",
    "\n",
    "b = set(a) #원소가 하나씩 들어간 것\n",
    "c = list(b) # 집합 원소에 대한 리스트\n",
    "e=[] # 집합 원소당 a에서의 개수 담을 리스트\n",
    "for i in c:\n",
    "    f = a.count(i)\n",
    "    e.append(f)\n",
    "f=[]\n",
    "for j in range(len(e)):\n",
    "    if e[j]==max(e):\n",
    "        f.append(c[j])\n",
    "    \n",
    "\n",
    "print(max(f))"
   ]
  },
  {
   "cell_type": "code",
   "execution_count": 7,
   "metadata": {},
   "outputs": [
    {
     "name": "stdout",
     "output_type": "stream",
     "text": [
      "주어진 튜플은:  (1, 2, 5, 4, 3, 2, 1, 4, 7, 8, 9, 9, 3, 7, 3)\n",
      "가장 많이 나타나는 요소는:  3\n"
     ]
    }
   ],
   "source": [
    "t1=(1,2,5,4,3,2,1,4,7,8,9,9,3,7,3)\n",
    "val_lst=[]\n",
    "cnt_lst=[]\n",
    "for i in t1:\n",
    "    if i not in val_lst:\n",
    "        val_lst.append(i)\n",
    "\n",
    "for i in val_lst:\n",
    "    cnt_lst.append(t1.count(i))\n",
    "\n",
    "cnd_list=[]\n",
    "for i in range(len(cnt_lst)):\n",
    "    if cnt_lst[i]==max(cnt_lst):\n",
    "        cnd_list.append(val_lst[i])\n",
    "\n",
    "print('주어진 튜플은: ',t1)\n",
    "print('가장 많이 나타나는 요소는: ',max(cnd_list))"
   ]
  },
  {
   "cell_type": "markdown",
   "metadata": {},
   "source": [
    "### 문제 6.11"
   ]
  },
  {
   "cell_type": "code",
   "execution_count": 21,
   "metadata": {},
   "outputs": [
    {
     "name": "stdout",
     "output_type": "stream",
     "text": [
      "[1, (1,), ('a',), ('a', 'b'), ((),), ('a', 'b'), '']\n"
     ]
    }
   ],
   "source": [
    "a = [(),1,(),(),(1,),('a',),('a','b'),((),),('a','b'),'']\n",
    "b=[]\n",
    "for i in a:\n",
    "    if i!=tuple():\n",
    "        b.append(i)\n",
    "print(b)"
   ]
  },
  {
   "cell_type": "markdown",
   "metadata": {},
   "source": [
    "### 문제 6.22"
   ]
  },
  {
   "cell_type": "code",
   "execution_count": null,
   "metadata": {},
   "outputs": [],
   "source": [
    "name=input('이름을 입력하세요: ')\n",
    "if name[-3:]=='vic':\n",
    "    print('안녕하세요? {} 님. 발칸 반도에서 오셨나요?'.format(name))\n",
    "else:\n",
    "    print('안녕하세요? {} 님.'.format(name))"
   ]
  },
  {
   "cell_type": "markdown",
   "metadata": {},
   "source": [
    "### 문제 6.23"
   ]
  },
  {
   "cell_type": "code",
   "execution_count": null,
   "metadata": {},
   "outputs": [],
   "source": [
    "import string\n",
    "str=string.ascii_uppercase"
   ]
  },
  {
   "cell_type": "code",
   "execution_count": null,
   "metadata": {},
   "outputs": [],
   "source": [
    "print(str)\n",
    "for i in range(9):\n",
    "    out=str[i+1:]+str[:i+1]\n",
    "    print(out)"
   ]
  },
  {
   "cell_type": "markdown",
   "metadata": {},
   "source": [
    "### 문제 6.24"
   ]
  },
  {
   "cell_type": "code",
   "execution_count": null,
   "metadata": {},
   "outputs": [],
   "source": [
    "STR=string.ascii_uppercase\n",
    "STR_enc=STR[3:]+STR[:3]"
   ]
  },
  {
   "cell_type": "code",
   "execution_count": null,
   "metadata": {},
   "outputs": [],
   "source": [
    "def ciper(a):\n",
    "    org_idx=STR.index(a)\n",
    "    encrypted=STR_enc[org_idx]\n",
    "    return org_idx,encrypted\n",
    "\n",
    "A_idx, A_enc=ciper('A')\n",
    "B_idx, B_enc=ciper('B')\n",
    "print('src_str의 A 인덱스 : {}'.format(A_idx))\n",
    "print('dst_str의 {}번째 알파벳: {}'.format(A_idx, A_enc))\n",
    "print('src_str의 B 인덱스 : {}'.format(B_idx))\n",
    "print('dst_str의 {}번째 알파벳: {}'.format(B_idx, B_enc))"
   ]
  },
  {
   "cell_type": "code",
   "execution_count": null,
   "metadata": {},
   "outputs": [],
   "source": [
    "obj=input('문장을 입력하시오: ')\n",
    "obj_enc=''\n",
    "\n",
    "for i in obj:\n",
    "    if i not in STR:\n",
    "        obj_enc+=i\n",
    "    else:\n",
    "        idx, enc=ciper(i)\n",
    "        obj_enc+=enc\n",
    "\n",
    "print(obj_enc)"
   ]
  },
  {
   "cell_type": "markdown",
   "metadata": {},
   "source": [
    "### 문제 6.25"
   ]
  },
  {
   "cell_type": "code",
   "execution_count": null,
   "metadata": {},
   "outputs": [],
   "source": [
    "dic=dict()\n",
    "terminate=input('사전 프로그램 시작... 종료는 q를 입력')\n",
    "if terminate=='q': print('사전 프로그램을 종료합니다.')\n",
    "else:\n",
    "    while True:\n",
    "        ipt=input('$ ')\n",
    "        if ipt[0]=='<' : # 입력 알고리즘\n",
    "            k,v=(ipt.split(':'))\n",
    "            dic[k[1:]]=v\n",
    "        elif ipt[0]=='>': # 검색 알고리즘\n",
    "            if ipt[1:] in dic.keys():\n",
    "                print(dic[ipt[1:]])\n",
    "                continue\n",
    "            else:\n",
    "                print('{}가 사전에 없습니다.'.format(ipt[1:]))\n",
    "        elif ipt[0]=='q':\n",
    "            print('사전 프로그램을 종료합니다')\n",
    "            break\n",
    "        else:\n",
    "            print('입력오류가 발생했습니다')"
   ]
  },
  {
   "cell_type": "markdown",
   "metadata": {},
   "source": [
    "### 문제 6.26"
   ]
  },
  {
   "cell_type": "code",
   "execution_count": 67,
   "metadata": {},
   "outputs": [
    {
     "name": "stdout",
     "output_type": "stream",
     "text": [
      "(2, 1) 요소는 없으나 1번째에 (1, 2) 요소가 있습니다.\n"
     ]
    }
   ],
   "source": [
    "mylist=[(1,2),(4,5),(4,2),(3,1),(9,4)]\n",
    "isin=False; isalt=False; idx=0\n",
    "a,b=map(int,input('두 정수를 입력하시오').split())\n",
    "\n",
    "if (a,b) in mylist: \n",
    "    inin=True; isalt=False; idx=mylist.index((a,b))\n",
    "elif (b,a) in mylist:\n",
    "    isalt=True; isin=False; idx=mylist.index((b,a))\n",
    "\n",
    "if isin==True and isalt==False:\n",
    "    print('{}번째에 {}요소가 있습니다'.format(idx+1,mylist[idx]))\n",
    "elif isalt==True and isin==False:\n",
    "    print('{} 요소는 없으나 {}번째에 {} 요소가 있습니다.'.format((a,b),idx+1,mylist[idx]))\n"
   ]
  },
  {
   "cell_type": "code",
   "execution_count": 11,
   "metadata": {},
   "outputs": [
    {
     "name": "stdout",
     "output_type": "stream",
     "text": [
      "[3, 2, 1]\n"
     ]
    }
   ],
   "source": [
    "a=[3,2,1]\n",
    "\n",
    "sorted(a)\n",
    "print(a)"
   ]
  },
  {
   "cell_type": "code",
   "execution_count": 10,
   "metadata": {},
   "outputs": [
    {
     "name": "stdout",
     "output_type": "stream",
     "text": [
      "[1, 2, 3]\n"
     ]
    }
   ],
   "source": [
    "a=[3,2,1]\n",
    "\n",
    "a.sort()\n",
    "print(a)"
   ]
  },
  {
   "cell_type": "code",
   "execution_count": 66,
   "metadata": {},
   "outputs": [
    {
     "name": "stdout",
     "output_type": "stream",
     "text": [
      "1\n"
     ]
    }
   ],
   "source": [
    "a,b=1,2\n",
    "print(a)"
   ]
  }
 ],
 "metadata": {
  "kernelspec": {
   "display_name": "base",
   "language": "python",
   "name": "python3"
  },
  "language_info": {
   "codemirror_mode": {
    "name": "ipython",
    "version": 3
   },
   "file_extension": ".py",
   "mimetype": "text/x-python",
   "name": "python",
   "nbconvert_exporter": "python",
   "pygments_lexer": "ipython3",
   "version": "3.11.4"
  }
 },
 "nbformat": 4,
 "nbformat_minor": 2
}
