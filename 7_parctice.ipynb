{
 "cells": [
  {
   "cell_type": "markdown",
   "metadata": {},
   "source": [
    "### 문제 7.19"
   ]
  },
  {
   "cell_type": "code",
   "execution_count": 2,
   "metadata": {},
   "outputs": [],
   "source": [
    "from tkinter import *\n",
    "time_count=0\n",
    "\n",
    "def increase_time():\n",
    "    global time_count\n",
    "    label.after(1000, increase_time)\n",
    "    time_count+=1\n",
    "    label.config(text=str(time_count))\n",
    "    \n",
    "window=Tk()\n",
    "window.title('Timer')\n",
    "\n",
    "label=Label(window, text='0',fg='black',font='Arial 120 bold')\n",
    "label.pack()\n",
    "\n",
    "button=Button(window, text='Start', command=increase_time)\n",
    "button.pack()\n",
    "\n",
    "window.mainloop()"
   ]
  },
  {
   "cell_type": "markdown",
   "metadata": {},
   "source": [
    "#### 문제 7.19 (1)"
   ]
  },
  {
   "cell_type": "code",
   "execution_count": 6,
   "metadata": {},
   "outputs": [],
   "source": [
    "from tkinter import *\n",
    "time_count=0; sec=0; min=0\n",
    "\n",
    "def increase_milisec():\n",
    "    global time_count, sec, min\n",
    "    label.after(10, increase_milisec)\n",
    "    time_count+=1\n",
    "    sec+=time_count//100\n",
    "    time_count%=100\n",
    "    min+=sec//60\n",
    "    sec%=60\n",
    "    label.config(text='{:02d}:{:02d}:{:02d}'.format(min,sec,time_count))\n",
    "    \n",
    "window=Tk()\n",
    "window.title('Timer')\n",
    "\n",
    "label=Label(window, text='00:00:00',fg='black',font='Arial 120 bold')\n",
    "label.pack()\n",
    "\n",
    "button=Button(window, text='Start', command=increase_milisec)\n",
    "button.pack()\n",
    "\n",
    "window.mainloop()"
   ]
  },
  {
   "cell_type": "code",
   "execution_count": 1,
   "metadata": {},
   "outputs": [],
   "source": [
    "b_working=False\n",
    "from tkinter import *\n",
    "centisec=0; sec=0; min=0\n",
    "\n",
    "def increase_time():\n",
    "    global centisec, sec, min\n",
    "    if b_working==True:\n",
    "        label.after(10, increase_time)\n",
    "        centisec+=1\n",
    "        sec+=centisec//100\n",
    "        centisec%=100\n",
    "        min+=sec//60\n",
    "        sec%=60\n",
    "    label.config(text='{:02d}:{:02d}:{:02d}'.format(min,sec,centisec))\n",
    "    \n",
    "def start_time():\n",
    "    global b_working\n",
    "    b_working=True\n",
    "    increase_time()\n",
    "    \n",
    "def stop_time():\n",
    "    global b_working\n",
    "    b_working=False\n",
    "    \n",
    "def reset_time():\n",
    "    global min, sec, centisec\n",
    "    min=sec=centisec=0\n",
    "    display='{:02d}:{:02d}:{:02d}'.format(min,sec,centisec)\n",
    "    label.config(text=display)\n",
    "    \n",
    "window=Tk()\n",
    "window.title('Timer')\n",
    "\n",
    "label=Label(window, text='00:00:00',fg='black',font='Arial 120 bold')\n",
    "label.pack()\n",
    "\n",
    "start_btn=Button(window, text='Start', command=start_time)\n",
    "start_btn.pack()\n",
    "\n",
    "stop_btn=Button(window,text='Stop',command=stop_time)\n",
    "stop_btn.pack()\n",
    "\n",
    "reset_btn=Button(window,text='Reset',command=reset_time)\n",
    "reset_btn.pack()\n",
    "\n",
    "window.mainloop()"
   ]
  },
  {
   "cell_type": "code",
   "execution_count": null,
   "metadata": {},
   "outputs": [],
   "source": []
  }
 ],
 "metadata": {
  "kernelspec": {
   "display_name": "base",
   "language": "python",
   "name": "python3"
  },
  "language_info": {
   "codemirror_mode": {
    "name": "ipython",
    "version": 3
   },
   "file_extension": ".py",
   "mimetype": "text/x-python",
   "name": "python",
   "nbconvert_exporter": "python",
   "pygments_lexer": "ipython3",
   "version": "3.11.4"
  }
 },
 "nbformat": 4,
 "nbformat_minor": 2
}
