{
 "cells": [
  {
   "cell_type": "markdown",
   "metadata": {},
   "source": [
    "### 9장 객체와 클래스"
   ]
  },
  {
   "cell_type": "markdown",
   "metadata": {},
   "source": [
    "* 클래스의 생성자 __init__\n",
    "* 객체 내의 메소드, 인스턴스를 멤버라 하고 이것의 접근은 <객체이름.멤버이름> 으로 할 수 있음\n",
    "* 인스턴스 변수를 private으로 정의하려면 변수명 앞에 __을 붙여 주면 됨 -> 클래스 내부에서만 접근 가능\n",
    "* 인스턴스 변수를 \n",
    "    * 바꾸는 메소드인 설정자\n",
    "    * 변수를 반환하는 메소드인 접근자\n",
    "* 변수의 종류\n",
    "    * 클래스 변수: 클래스를 통해 다른 객체를 생성해도 서로 같은 변수를 공유함\n",
    "    * 인스턴스 변수: 다른 객체마다 서로 다른 변수를 가지는 것"
   ]
  },
  {
   "cell_type": "code",
   "execution_count": 11,
   "metadata": {},
   "outputs": [],
   "source": [
    "class Account:\n",
    "    def __init__(self):\n",
    "        self.__balance=0\n",
    "        \n",
    "    def deposit(self, amount):\n",
    "        self.__balance+=amount\n",
    "        print('통장에 {}가 입금되었음'.format(amount))\n",
    "        return self.__balance\n",
    "    \n",
    "    def withdraw(self, amount):\n",
    "        if self.__balance-amount<0:\n",
    "            raise ValueError\n",
    "        else:\n",
    "            self.__balance-=amount\n",
    "            print('통장에서 {}가 출금되었음'.format(amount))\n",
    "        return self.__balance"
   ]
  },
  {
   "cell_type": "code",
   "execution_count": 12,
   "metadata": {},
   "outputs": [
    {
     "name": "stdout",
     "output_type": "stream",
     "text": [
      "통장에 100가 입금되었음\n",
      "통장에서 90가 출금되었음\n"
     ]
    },
    {
     "data": {
      "text/plain": [
       "10"
      ]
     },
     "execution_count": 12,
     "metadata": {},
     "output_type": "execute_result"
    }
   ],
   "source": [
    "a=Account()\n",
    "a.deposit(100)\n",
    "a.withdraw(90)"
   ]
  },
  {
   "cell_type": "code",
   "execution_count": 13,
   "metadata": {},
   "outputs": [
    {
     "name": "stdout",
     "output_type": "stream",
     "text": [
      "출금할 수 없습니다\n"
     ]
    }
   ],
   "source": [
    "try:\n",
    "    a.withdraw(20)\n",
    "except ValueError:\n",
    "    print('출금할 수 없습니다')"
   ]
  },
  {
   "cell_type": "code",
   "execution_count": 14,
   "metadata": {},
   "outputs": [],
   "source": [
    "class Student:\n",
    "    __avg=0\n",
    "    def __init__(self):\n",
    "        self.__info=[]\n",
    "        self.__cnt=0\n",
    "    \n",
    "    def appnd(self, num, name, scr):\n",
    "        self.__info.append([num, name, scr])\n",
    "        self.__cnt+=1\n",
    "    \n",
    "    def getavg(self):\n",
    "        sum=0\n",
    "        for i in range(self.__cnt):\n",
    "            sum+=self.__info[i][2]\n",
    "        __avg=sum/self.__cnt\n",
    "        return __avg\n",
    "    \n",
    "    def printinfo(self):\n",
    "        for i in range(self.__cnt):\n",
    "            print('{}번째 학생의 학번: {}, 이름: {}, 점수: {}'.format(i+1,self.__info[i][0],self.__info[i][1],self.__info[i][2]))\n",
    "            "
   ]
  },
  {
   "cell_type": "code",
   "execution_count": 15,
   "metadata": {},
   "outputs": [],
   "source": [
    "s=Student()\n",
    "s.appnd(21,'김',30)\n",
    "s.appnd(22,'이',40)\n",
    "s.appnd(23,'최',50)"
   ]
  },
  {
   "cell_type": "code",
   "execution_count": 16,
   "metadata": {},
   "outputs": [
    {
     "name": "stdout",
     "output_type": "stream",
     "text": [
      "1번째 학생의 학번: 21, 이름: 김, 점수: 30\n",
      "2번째 학생의 학번: 22, 이름: 이, 점수: 40\n",
      "3번째 학생의 학번: 23, 이름: 최, 점수: 50\n"
     ]
    }
   ],
   "source": [
    "s.printinfo()"
   ]
  },
  {
   "cell_type": "code",
   "execution_count": 17,
   "metadata": {},
   "outputs": [
    {
     "name": "stdout",
     "output_type": "stream",
     "text": [
      "40.0\n"
     ]
    }
   ],
   "source": [
    "print(s.getavg())"
   ]
  },
  {
   "cell_type": "code",
   "execution_count": 1,
   "metadata": {},
   "outputs": [],
   "source": [
    "class vector:\n",
    "    def __init__(self, x, y):\n",
    "        self.x=x\n",
    "        self.y=y\n",
    "        \n",
    "    def __add__(self, other):\n",
    "        return vector(self.x+other.x, self.y+other.y)\n",
    "    "
   ]
  },
  {
   "cell_type": "code",
   "execution_count": 3,
   "metadata": {},
   "outputs": [],
   "source": [
    "from random import randint as rni"
   ]
  },
  {
   "cell_type": "code",
   "execution_count": 4,
   "metadata": {},
   "outputs": [
    {
     "name": "stdout",
     "output_type": "stream",
     "text": [
      "주사위의 값= 6\n"
     ]
    }
   ],
   "source": [
    "class dice:\n",
    "    def __init__(self, x, y):\n",
    "        self._x=x\n",
    "        self._y=y\n",
    "        self._size=30\n",
    "        self._value=1\n",
    "    \n",
    "    def read_dice(self):\n",
    "        return self._value\n",
    "    \n",
    "    def print_dice(self):\n",
    "        print('주사위의 값=',self._value)\n",
    "        \n",
    "    def roll_dice(self):\n",
    "        self._value=rni(1,6)\n",
    "        \n",
    "d=dice(100,100)\n",
    "d.roll_dice()\n",
    "d.print_dice()"
   ]
  },
  {
   "cell_type": "code",
   "execution_count": 5,
   "metadata": {},
   "outputs": [
    {
     "name": "stdout",
     "output_type": "stream",
     "text": [
      "금액 100 원\n"
     ]
    }
   ],
   "source": [
    "class Parent(object):\n",
    "    def __init__(self):\n",
    "        self.__money=100\n",
    "        \n",
    "    def getMoney(self):\n",
    "        return self.__money\n",
    "    \n",
    "class Child(Parent):\n",
    "    def __init__(self):\n",
    "        super().__init__()\n",
    "        \n",
    "    def __str__(self):\n",
    "        return '금액 %d 원'%(self.getMoney()) # getMoney라는 부모 클래스의 접근자를 이용하여 멤버 접근\n",
    "    \n",
    "print(Child())"
   ]
  },
  {
   "cell_type": "code",
   "execution_count": 7,
   "metadata": {},
   "outputs": [],
   "source": [
    "class Employee(object):\n",
    "    def __init__(self, name, salary):\n",
    "        self.name=name\n",
    "        self.salary=salary\n",
    "        \n",
    "    def getSalary(self):\n",
    "        return self.salary\n",
    "\n",
    "class Manager(Employee):\n",
    "    def __init__(self, name, salary, bonus):\n",
    "        super().__init__(name, salary)\n",
    "        self.bonus=bonus\n",
    "        \n",
    "    def getSalary(self):\n",
    "        salary=super().getSalary()\n",
    "        return salary+self.bonus\n",
    "        \n",
    "    def __str__(self):\n",
    "        return '이름: {}, 월급: {}, 보너스: {}'.format(self.name, str(self.salary), str(self.bonus))"
   ]
  },
  {
   "cell_type": "code",
   "execution_count": 9,
   "metadata": {},
   "outputs": [
    {
     "name": "stdout",
     "output_type": "stream",
     "text": [
      "이름: 홍길동, 월급: 200000, 보너스: 40000\n",
      "240000\n"
     ]
    }
   ],
   "source": [
    "peo=Manager('홍길동', 200000, 40000)\n",
    "print(peo)\n",
    "print(peo.getSalary())"
   ]
  },
  {
   "cell_type": "code",
   "execution_count": 10,
   "metadata": {},
   "outputs": [],
   "source": [
    "class Shape:\n",
    "    def __init__(self, name):\n",
    "        self.name=name\n",
    "    def getArea(self):\n",
    "        raise NotImplementedError('추상메소드임')\n",
    "    \n",
    "class Circle(Shape):\n",
    "    def __init__(self, name, radius):\n",
    "        super().__init__(name)\n",
    "        self.radius=radius\n",
    "        \n",
    "    def getArea(self):\n",
    "        return self.name+'='+str(3.14*self.radius**2)\n",
    "    \n",
    "class Rectangle(Shape):\n",
    "    def __init__(self, name, width, height):\n",
    "        super().__init__(name)\n",
    "        self.width=width\n",
    "        self.height=height\n",
    "        \n",
    "    def getArea(self):\n",
    "        return self.name+'='+str(self.width*self.height)"
   ]
  },
  {
   "cell_type": "code",
   "execution_count": 11,
   "metadata": {},
   "outputs": [
    {
     "name": "stdout",
     "output_type": "stream",
     "text": [
      "c1=78.5\n",
      "r1=25\n"
     ]
    }
   ],
   "source": [
    "shapelst=[Circle('c1',5), Rectangle('r1',5,5)]\n",
    "for s in shapelst:\n",
    "    print(s.getArea())"
   ]
  },
  {
   "cell_type": "code",
   "execution_count": null,
   "metadata": {},
   "outputs": [],
   "source": []
  }
 ],
 "metadata": {
  "kernelspec": {
   "display_name": "base",
   "language": "python",
   "name": "python3"
  },
  "language_info": {
   "codemirror_mode": {
    "name": "ipython",
    "version": 3
   },
   "file_extension": ".py",
   "mimetype": "text/x-python",
   "name": "python",
   "nbconvert_exporter": "python",
   "pygments_lexer": "ipython3",
   "version": "3.11.4"
  }
 },
 "nbformat": 4,
 "nbformat_minor": 2
}
